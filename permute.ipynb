{
  "cells": [
    {
      "cell_type": "markdown",
      "metadata": {},
      "source": [
        "# Permute"
      ]
    },
    {
      "cell_type": "markdown",
      "metadata": {},
      "source": [
        "### Import libraries"
      ]
    },
    {
      "cell_type": "code",
      "execution_count": 169,
      "metadata": {},
      "outputs": [],
      "source": [
        "from tqdm import tqdm\n",
        "import numpy as np\n",
        "import scipy\n",
        "import matplotlib.pyplot as plt\n",
        "\n",
        "import torch\n",
        "from torch import nn\n",
        "import torch.nn.functional as F\n",
        "import torch.nn.init as init\n",
        "\n",
        "import torchvision\n",
        "import torchvision.transforms as transforms"
      ]
    },
    {
      "cell_type": "markdown",
      "metadata": {},
      "source": [
        "### Config"
      ]
    },
    {
      "cell_type": "code",
      "execution_count": 230,
      "metadata": {},
      "outputs": [],
      "source": [
        "batch_size = 512\n",
        "path_net1 = 'checkpoint/net1/best.pth'\n",
        "path_net2 = 'checkpoint/net2/best.pth'\n",
        "path_net2_to_net1 = 'checkpoint/net2/net2_to_net1.pth'\n"
      ]
    },
    {
      "cell_type": "code",
      "execution_count": 171,
      "metadata": {},
      "outputs": [],
      "source": [
        "device = 'cuda' if torch.cuda.is_available() else 'cpu'"
      ]
    },
    {
      "cell_type": "markdown",
      "metadata": {},
      "source": [
        "### Model Resnet20"
      ]
    },
    {
      "cell_type": "code",
      "execution_count": 174,
      "metadata": {},
      "outputs": [],
      "source": [
        "def _weights_init(m):\n",
        "    classname = m.__class__.__name__\n",
        "    if isinstance(m, nn.Linear) or isinstance(m, nn.Conv2d):\n",
        "        init.kaiming_normal_(m.weight)\n",
        "\n",
        "class LambdaLayer(nn.Module):\n",
        "    def __init__(self, lambd):\n",
        "        super(LambdaLayer, self).__init__()\n",
        "        self.lambd = lambd\n",
        "    def forward(self, x):\n",
        "        return self.lambd(x)\n",
        "\n",
        "\n",
        "class BasicBlock(nn.Module):\n",
        "    expansion = 1\n",
        "    def __init__(self, in_planes, planes, stride=1):\n",
        "        super(BasicBlock, self).__init__()\n",
        "        self.conv1 = nn.Conv2d(in_planes, planes, kernel_size=3, stride=stride, padding=1, bias=False)\n",
        "        self.bn1 = nn.BatchNorm2d(planes)\n",
        "        self.conv2 = nn.Conv2d(planes, planes, kernel_size=3, stride=1, padding=1, bias=False)\n",
        "        self.bn2 = nn.BatchNorm2d(planes)\n",
        "\n",
        "        self.shortcut = nn.Sequential()\n",
        "        if stride != 1 or in_planes != planes:\n",
        "            self.shortcut = nn.Sequential(\n",
        "                nn.Conv2d(in_planes, planes, kernel_size=3, stride=stride, padding=1, bias=False),\n",
        "                nn.BatchNorm2d(planes)\n",
        "            )\n",
        "\n",
        "    def forward(self, x):\n",
        "        out = F.relu(self.bn1(self.conv1(x)))\n",
        "        out = self.bn2(self.conv2(out))\n",
        "        out += self.shortcut(x)\n",
        "        out = F.relu(out)\n",
        "        return out\n",
        "\n",
        "\n",
        "class ResNet(nn.Module):\n",
        "    def __init__(self, block, num_blocks, w=1, num_classes=10):\n",
        "        super(ResNet, self).__init__()\n",
        "        self.in_planes = w*16\n",
        "\n",
        "        self.conv1 = nn.Conv2d(3, w*16, kernel_size=3, stride=1, padding=1, bias=False)\n",
        "        self.bn1 = nn.BatchNorm2d(w*16)\n",
        "        self.layer1 = self._make_layer(block, w*16, num_blocks[0], stride=1)\n",
        "        self.layer2 = self._make_layer(block, w*32, num_blocks[1], stride=2)\n",
        "        self.layer3 = self._make_layer(block, w*64, num_blocks[2], stride=2)\n",
        "        self.linear = nn.Linear(w*64, num_classes)\n",
        "\n",
        "        self.apply(_weights_init)\n",
        "\n",
        "    def _make_layer(self, block, planes, num_blocks, stride):\n",
        "        strides = [stride] + [1]*(num_blocks-1)\n",
        "        layers = []\n",
        "        for stride in strides:\n",
        "            layers.append(block(self.in_planes, planes, stride))\n",
        "            self.in_planes = planes * block.expansion\n",
        "\n",
        "        return nn.Sequential(*layers)\n",
        "\n",
        "    def forward(self, x):\n",
        "        out = F.relu(self.bn1(self.conv1(x)))\n",
        "        out = self.layer1(out)\n",
        "        out = self.layer2(out)\n",
        "        out = self.layer3(out)\n",
        "        out = F.avg_pool2d(out, out.size()[3])\n",
        "        out = out.view(out.size(0), -1)\n",
        "        out = self.linear(out)\n",
        "        return out\n",
        "\n",
        "def resnet20(w=4):\n",
        "    return ResNet(BasicBlock, [3, 3, 3], w=w)"
      ]
    },
    {
      "cell_type": "code",
      "execution_count": 175,
      "metadata": {},
      "outputs": [],
      "source": [
        "def load(path):\n",
        "    net = resnet20().to(device)\n",
        "    state_dict = torch.load(path)['net']\n",
        "    net.load_state_dict(state_dict)\n",
        "    return net\n",
        "\n",
        "net1 = load(path_net1)\n",
        "net2 = load(path_net2)"
      ]
    },
    {
      "cell_type": "markdown",
      "metadata": {},
      "source": [
        "### Dataset"
      ]
    },
    {
      "cell_type": "code",
      "execution_count": 176,
      "metadata": {},
      "outputs": [
        {
          "name": "stdout",
          "output_type": "stream",
          "text": [
            "Files already downloaded and verified\n",
            "Files already downloaded and verified\n"
          ]
        }
      ],
      "source": [
        "transform_train = transforms.Compose([\n",
        "    transforms.RandomCrop(32, padding=4),\n",
        "    transforms.RandomHorizontalFlip(),\n",
        "    transforms.ToTensor(),\n",
        "    transforms.Normalize((0.4914, 0.4822, 0.4465), (0.2023, 0.1994, 0.2010)),\n",
        "])\n",
        "\n",
        "transform_test = transforms.Compose([\n",
        "    transforms.ToTensor(),\n",
        "    transforms.Normalize((0.4914, 0.4822, 0.4465), (0.2023, 0.1994, 0.2010)),\n",
        "])\n",
        "\n",
        "trainset = torchvision.datasets.CIFAR10(\n",
        "    root='./data/cifar10', train=True, download=True, transform=transform_train)\n",
        "trainloader = torch.utils.data.DataLoader(\n",
        "    trainset, batch_size=batch_size, shuffle=True, num_workers=2)\n",
        "\n",
        "testset = torchvision.datasets.CIFAR10(\n",
        "    root='./data/cifar10', train=False, download=True, transform=transform_test)\n",
        "testloader = torch.utils.data.DataLoader(\n",
        "    testset, batch_size=100, shuffle=False, num_workers=2)\n",
        "\n",
        "classes = ('plane', 'car', 'bird', 'cat', 'deer',\n",
        "           'dog', 'frog', 'horse', 'ship', 'truck')"
      ]
    },
    {
      "cell_type": "markdown",
      "metadata": {},
      "source": [
        "### Evaluate models"
      ]
    },
    {
      "cell_type": "code",
      "execution_count": 177,
      "metadata": {},
      "outputs": [
        {
          "data": {
            "text/plain": [
              "(95.81, 95.58)"
            ]
          },
          "execution_count": 177,
          "metadata": {},
          "output_type": "execute_result"
        }
      ],
      "source": [
        "# evaluates accuracy\n",
        "def evaluate(model, loader=testloader):\n",
        "    model.eval()\n",
        "    correct = 0\n",
        "    with torch.no_grad(), autocast():\n",
        "        for inputs, labels in loader:\n",
        "            outputs = model(inputs.to(device))\n",
        "            pred = outputs.argmax(dim=1)\n",
        "            labels = labels.to(device)\n",
        "            correct += (labels == pred).sum().item()\n",
        "    return correct\n",
        "\n",
        "# evaluates loss\n",
        "def evaluate1(model, loader=testloader):\n",
        "    model.eval()\n",
        "    losses = []\n",
        "    with torch.no_grad(), autocast():\n",
        "        for inputs, labels in loader:\n",
        "            outputs = model(inputs.to(device))\n",
        "            loss = F.cross_entropy(outputs, labels.to(device))\n",
        "            losses.append(loss.item())\n",
        "    return np.array(losses).mean()\n",
        "\n",
        "evaluate(net1)/100, evaluate(net2)/100"
      ]
    },
    {
      "cell_type": "markdown",
      "metadata": {},
      "source": [
        "### Code to compute correlation between weights"
      ]
    },
    {
      "cell_type": "code",
      "execution_count": 178,
      "metadata": {},
      "outputs": [],
      "source": [
        "# given two networks net1, net2 which each output a feature map of shape NxCxWxH\n",
        "# this will reshape both outputs to (N*W*H)xC\n",
        "# and then compute a CxC correlation matrix between the outputs of the two networks\n",
        "def run_corr_matrix(net1, net2, epochs=1, norm=True, loader=trainloader):\n",
        "    n = epochs*len(loader)\n",
        "    mean0 = mean1 = std1 = std2 = None\n",
        "    with torch.no_grad():\n",
        "        net1.eval()\n",
        "        net2.eval()\n",
        "        for _ in range(epochs):\n",
        "            for i, (images, _) in enumerate(tqdm(loader)):\n",
        "                img_t = images.float().to(device)\n",
        "                out1 = net1(img_t)\n",
        "                out1 = out1.reshape(out1.shape[0], out1.shape[1], -1).permute(0, 2, 1)\n",
        "                out1 = out1.reshape(-1, out1.shape[2]).double()\n",
        "\n",
        "                out2 = net2(img_t)\n",
        "                out2 = out2.reshape(out2.shape[0], out2.shape[1], -1).permute(0, 2, 1)\n",
        "                out2 = out2.reshape(-1, out2.shape[2]).double()\n",
        "\n",
        "                mean1_b = out1.mean(dim=0)\n",
        "                mean2_b = out2.mean(dim=0)\n",
        "                std1_b = out1.std(dim=0)\n",
        "                std2_b = out2.std(dim=0)\n",
        "                outer_b = (out1.T @ out2) / out1.shape[0]\n",
        "\n",
        "                if i == 0:\n",
        "                    mean0 = torch.zeros_like(mean1_b)\n",
        "                    mean1 = torch.zeros_like(mean2_b)\n",
        "                    std1 = torch.zeros_like(std1_b)\n",
        "                    std2 = torch.zeros_like(std2_b)\n",
        "                    outer = torch.zeros_like(outer_b)\n",
        "                mean0 += mean1_b / n\n",
        "                mean1 += mean2_b / n\n",
        "                std1 += std1_b / n\n",
        "                std2 += std2_b / n\n",
        "                outer += outer_b / n\n",
        "\n",
        "    cov = outer - torch.outer(mean0, mean1)\n",
        "    if norm:\n",
        "        corr = cov / (torch.outer(std1, std2) + 1e-4)\n",
        "        return corr\n",
        "    else:\n",
        "        return cov"
      ]
    },
    {
      "cell_type": "markdown",
      "metadata": {},
      "source": [
        "### Code to find permutation mapping"
      ]
    },
    {
      "cell_type": "code",
      "execution_count": 179,
      "metadata": {},
      "outputs": [],
      "source": [
        "def compute_perm_map(corr_mtx):\n",
        "    # sort the (i, j) channel pairs by correlation\n",
        "    nchan = corr_mtx.shape[0]\n",
        "    triples = [(i, j, corr_mtx[i, j].item()) for i in range(nchan) for j in range(nchan)]\n",
        "    triples = sorted(triples, key=lambda p: -p[2])\n",
        "    # greedily find a matching\n",
        "    perm_d = {}\n",
        "    for i, j, c in triples:\n",
        "        if not (i in perm_d.keys() or j in perm_d.values()):\n",
        "            perm_d[i] = j\n",
        "    perm_map = torch.tensor([perm_d[i] for i in range(nchan)])\n",
        "\n",
        "    # qual_map will be a permutation of the indices in the order\n",
        "    # of the quality / degree of correlation between the neurons found in the permutation.\n",
        "    # this just for visualization purposes.\n",
        "    qual_l = [corr_mtx[i, perm_map[i]].item() for i in range(nchan)]\n",
        "    qual_map = torch.tensor(sorted(range(nchan), key=lambda i: -qual_l[i]))\n",
        "\n",
        "    return perm_map, qual_map\n",
        "\n",
        "# returns the channel-permutation to make layer1's activations most closely\n",
        "# match layer0's.\n",
        "def get_layer_perm(net1, net2, method='max_weight', vizz=False):\n",
        "    def _get_layer_perm(corr_mtx, method='max_weight', vizz=False):\n",
        "        if method == 'greedy':\n",
        "            perm_map, qual_map = compute_perm_map(corr_mtx)\n",
        "            if vizz:\n",
        "                corr_mtx_viz = (corr_mtx[qual_map].T[perm_map[qual_map]]).T\n",
        "                viz(corr_mtx_viz)\n",
        "        elif method == 'max_weight':\n",
        "            corr_mtx_a = corr_mtx.cpu().numpy()\n",
        "            row_ind, col_ind = scipy.optimize.linear_sum_assignment(corr_mtx_a, maximize=True)\n",
        "            assert (row_ind == np.arange(len(corr_mtx_a))).all()\n",
        "            perm_map = torch.tensor(col_ind).long()\n",
        "        else:\n",
        "            raise Exception('Unknown method: %s' % method)\n",
        "            \n",
        "        return perm_map\n",
        "        \n",
        "    corr_mtx = run_corr_matrix(net1, net2)\n",
        "    return _get_layer_perm(corr_mtx, method, vizz)"
      ]
    },
    {
      "cell_type": "markdown",
      "metadata": {},
      "source": [
        "### Code to apply permutations"
      ]
    },
    {
      "cell_type": "code",
      "execution_count": 180,
      "metadata": {},
      "outputs": [],
      "source": [
        "# modifies the weight matrices of a convolution and batchnorm\n",
        "# layer given a permutation of the output channels\n",
        "def permute_output(perm_map, conv, bn):\n",
        "    pre_weights = [\n",
        "        conv.weight,\n",
        "        bn.weight,\n",
        "        bn.bias,\n",
        "        bn.running_mean,\n",
        "        bn.running_var,\n",
        "    ]\n",
        "    for w in pre_weights:\n",
        "        w.data = w[perm_map]\n",
        "\n",
        "# modifies the weight matrix of a convolution layer for a given\n",
        "# permutation of the input channels\n",
        "def permute_input(perm_map, after_convs):\n",
        "    if not isinstance(after_convs, list):\n",
        "        after_convs = [after_convs]\n",
        "    post_weights = [c.weight for c in after_convs]\n",
        "    for w in post_weights:\n",
        "        w.data = w[:, perm_map, :, :]"
      ]
    },
    {
      "cell_type": "markdown",
      "metadata": {},
      "source": [
        "### Apply on ResNet20"
      ]
    },
    {
      "cell_type": "code",
      "execution_count": 181,
      "metadata": {},
      "outputs": [
        {
          "name": "stderr",
          "output_type": "stream",
          "text": [
            "100%|██████████| 98/98 [00:14<00:00,  6.63it/s]\n"
          ]
        }
      ],
      "source": [
        "class Subnet(nn.Module):\n",
        "    def __init__(self, model):\n",
        "        super().__init__()\n",
        "        self.model = model\n",
        "    def forward(self, x):\n",
        "        self = self.model\n",
        "        x = F.relu(self.bn1(self.conv1(x)))\n",
        "        x = self.layer1(x)\n",
        "        return x\n",
        "\n",
        "\n",
        "perm_map = get_layer_perm(Subnet(net1), Subnet(net2))\n",
        "permute_output(perm_map, net2.conv1, net2.bn1)\n",
        "permute_output(perm_map, net2.layer1[0].conv2, net2.layer1[0].bn2)\n",
        "permute_output(perm_map, net2.layer1[1].conv2, net2.layer1[1].bn2)\n",
        "permute_output(perm_map, net2.layer1[2].conv2, net2.layer1[2].bn2)\n",
        "permute_input(perm_map, [net2.layer1[0].conv1, net2.layer1[1].conv1, net2.layer1[2].conv1])\n",
        "permute_input(perm_map, [net2.layer2[0].conv1, net2.layer2[0].shortcut[0]])"
      ]
    },
    {
      "cell_type": "code",
      "execution_count": 182,
      "metadata": {},
      "outputs": [
        {
          "name": "stderr",
          "output_type": "stream",
          "text": [
            "100%|██████████| 98/98 [00:21<00:00,  4.66it/s]\n"
          ]
        }
      ],
      "source": [
        "class Subnet(nn.Module):\n",
        "    def __init__(self, model):\n",
        "        super().__init__()\n",
        "        self.model = model\n",
        "    def forward(self, x):\n",
        "        self = self.model\n",
        "        x = F.relu(self.bn1(self.conv1(x)))\n",
        "        x = self.layer1(x)\n",
        "        x = self.layer2(x)\n",
        "        return x\n",
        "\n",
        "perm_map = get_layer_perm(Subnet(net1), Subnet(net2))\n",
        "permute_output(perm_map, net2.layer2[0].conv2, net2.layer2[0].bn2)\n",
        "permute_output(perm_map, net2.layer2[0].shortcut[0], net2.layer2[0].shortcut[1])\n",
        "permute_output(perm_map, net2.layer2[1].conv2, net2.layer2[1].bn2)\n",
        "permute_output(perm_map, net2.layer2[2].conv2, net2.layer2[2].bn2)\n",
        "\n",
        "permute_input(perm_map, [net2.layer2[1].conv1, net2.layer2[2].conv1])\n",
        "permute_input(perm_map, [net2.layer3[0].conv1, net2.layer3[0].shortcut[0]])"
      ]
    },
    {
      "cell_type": "code",
      "execution_count": 183,
      "metadata": {},
      "outputs": [
        {
          "name": "stderr",
          "output_type": "stream",
          "text": [
            "100%|██████████| 98/98 [00:26<00:00,  3.64it/s]\n"
          ]
        }
      ],
      "source": [
        "class Subnet(nn.Module):\n",
        "    def __init__(self, model):\n",
        "        super().__init__()\n",
        "        self.model = model\n",
        "    def forward(self, x):\n",
        "        self = self.model\n",
        "        x = F.relu(self.bn1(self.conv1(x)))\n",
        "        x = self.layer1(x)\n",
        "        x = self.layer2(x)\n",
        "        x = self.layer3(x)\n",
        "        return x\n",
        "\n",
        "perm_map = get_layer_perm(Subnet(net1), Subnet(net2))\n",
        "permute_output(perm_map, net2.layer3[0].conv2, net2.layer3[0].bn2)\n",
        "permute_output(perm_map, net2.layer3[0].shortcut[0], net2.layer3[0].shortcut[1])\n",
        "permute_output(perm_map, net2.layer3[1].conv2, net2.layer3[1].bn2)\n",
        "permute_output(perm_map, net2.layer3[2].conv2, net2.layer3[2].bn2)\n",
        "\n",
        "permute_input(perm_map, [net2.layer3[1].conv1, net2.layer3[2].conv1])\n",
        "net2.linear.weight.data = net2.linear.weight[:, perm_map]"
      ]
    },
    {
      "cell_type": "code",
      "execution_count": 184,
      "metadata": {},
      "outputs": [],
      "source": [
        "class Subnet(nn.Module):\n",
        "    def __init__(self, model, nb=9):\n",
        "        super().__init__()\n",
        "        self.model = model\n",
        "        self.blocks = []\n",
        "        self.blocks += list(model.layer1)\n",
        "        self.blocks += list(model.layer2)\n",
        "        self.blocks += list(model.layer3)\n",
        "        self.blocks = nn.Sequential(*self.blocks)\n",
        "        self.bn1 = model.bn1\n",
        "        self.conv1 = model.conv1\n",
        "        self.linear = model.linear\n",
        "        self.nb = nb\n",
        "        \n",
        "    def forward(self, x):\n",
        "        x = F.relu(self.bn1(self.conv1(x)))\n",
        "        x = self.blocks[:self.nb](x)\n",
        "        block = self.blocks[self.nb]\n",
        "        x = block.conv1(x)\n",
        "        x = block.bn1(x)\n",
        "        x = F.relu(x)\n",
        "#         x = F.avg_pool2d(x, x.size()[3])\n",
        "#         x = x.view(x.size(0), -1)\n",
        "#         x = self.linear(x)\n",
        "        return x\n",
        "\n",
        "blocks1 = []\n",
        "blocks1 += list(net2.layer1)\n",
        "blocks1 += list(net2.layer2)\n",
        "blocks1 += list(net2.layer3)\n",
        "blocks1 = nn.Sequential(*blocks1)"
      ]
    },
    {
      "cell_type": "code",
      "execution_count": 185,
      "metadata": {},
      "outputs": [
        {
          "name": "stderr",
          "output_type": "stream",
          "text": [
            "100%|██████████| 98/98 [00:07<00:00, 13.16it/s]\n",
            "100%|██████████| 98/98 [00:10<00:00,  9.58it/s]\n",
            "100%|██████████| 98/98 [00:13<00:00,  7.21it/s]\n",
            "100%|██████████| 98/98 [00:15<00:00,  6.46it/s]\n",
            "100%|██████████| 98/98 [00:18<00:00,  5.36it/s]\n",
            "100%|██████████| 98/98 [00:20<00:00,  4.78it/s]\n",
            "100%|██████████| 98/98 [00:22<00:00,  4.33it/s]\n",
            "100%|██████████| 98/98 [00:25<00:00,  3.89it/s]\n",
            "100%|██████████| 98/98 [00:26<00:00,  3.66it/s]\n"
          ]
        }
      ],
      "source": [
        "for nb in range(9):\n",
        "    perm_map = get_layer_perm(Subnet(net1, nb=nb), Subnet(net2, nb=nb))\n",
        "    block = blocks1[nb]\n",
        "    permute_output(perm_map, block.conv1, block.bn1)\n",
        "    permute_input(perm_map, [block.conv2])"
      ]
    },
    {
      "cell_type": "code",
      "execution_count": 186,
      "metadata": {},
      "outputs": [
        {
          "name": "stdout",
          "output_type": "stream",
          "text": [
            "Saving permuted model..\n"
          ]
        }
      ],
      "source": [
        "print('Saving permuted model..')\n",
        "state = {'net': net2.state_dict()}\n",
        "torch.save(state, path_net2_to_net1)"
      ]
    },
    {
      "cell_type": "markdown",
      "metadata": {},
      "source": [
        "### Evaluate the interpolated network"
      ]
    },
    {
      "cell_type": "code",
      "execution_count": 187,
      "metadata": {},
      "outputs": [],
      "source": [
        "def mix_weights(model, alpha, path1, path2):\n",
        "    sd0 = torch.load(path1)['net']\n",
        "    sd1 = torch.load(path2)['net']\n",
        "    sd_alpha = {k: (1 - alpha) * sd0[k].to(device) + alpha * sd1[k].to(device)\n",
        "                for k in sd0.keys()}\n",
        "    model.load_state_dict(sd_alpha)\n",
        "\n",
        "# use the train loader with data augmentation as this gives better results\n",
        "def reset_bn_stats(model, epochs=1, loader=trainloader):\n",
        "    # resetting stats to baseline first as below is necessary for stability\n",
        "    for m in model.modules():\n",
        "        if type(m) == nn.BatchNorm2d:\n",
        "            m.momentum = None # use simple average\n",
        "            m.reset_running_stats()\n",
        "    # run a single train epoch with augmentations to recalc stats\n",
        "    model.train()\n",
        "    for _ in range(epochs):\n",
        "        with torch.no_grad(), autocast():\n",
        "            for images, _ in loader:\n",
        "                output = model(images.to(device))"
      ]
    },
    {
      "cell_type": "markdown",
      "metadata": {},
      "source": [
        "### Visualization"
      ]
    },
    {
      "cell_type": "code",
      "execution_count": 229,
      "metadata": {},
      "outputs": [],
      "source": [
        "model_a = resnet20(4).to(device)\n",
        "nb_steps = 30\n",
        "alphas = np.linspace(0,1,nb_steps)"
      ]
    },
    {
      "cell_type": "code",
      "execution_count": 204,
      "metadata": {},
      "outputs": [
        {
          "name": "stderr",
          "output_type": "stream",
          "text": [
            "100%|██████████| 30/30 [11:27<00:00, 22.93s/it]\n"
          ]
        }
      ],
      "source": [
        "loss_net1_net2 = []\n",
        "loss_net1_net2perm = []\n",
        "acc_net1_net2 = []\n",
        "acc_net1_net2perm = []\n",
        "for alpha in tqdm(alphas):\n",
        "    # net1 => net2\n",
        "    mix_weights(model_a, alpha, path_net1, path_net2)\n",
        "    reset_bn_stats(model_a)\n",
        "    loss_net1_net2 += [evaluate1(model_a)]\n",
        "    acc_net1_net2 += [evaluate(model_a)/100]\n",
        "    # net1 => net2perm\n",
        "    mix_weights(model_a, alpha, path_net1, path_net2_to_net1)\n",
        "    reset_bn_stats(model_a)\n",
        "    loss_net1_net2perm += [evaluate1(model_a)]\n",
        "    acc_net1_net2perm += [evaluate(model_a)/100]"
      ]
    },
    {
      "cell_type": "code",
      "execution_count": 228,
      "metadata": {},
      "outputs": [
        {
          "data": {
            "image/png": "[encoded data removed]",
            "text/plain": [
              "<Figure size 432x288 with 1 Axes>"
            ]
          },
          "metadata": {
            "needs_background": "light"
          },
          "output_type": "display_data"
        }
      ],
      "source": [
        "fig = plt.figure()\n",
        "ax = fig.add_subplot(111)\n",
        "ax.plot(alphas,\n",
        "        loss_net1_net2,\n",
        "        linestyle=\"solid\",\n",
        "        color=\"tab:red\",\n",
        "        alpha=0.5,\n",
        "        linewidth=3,\n",
        "        label=\"Naïve interp.\")\n",
        "ax.plot(alphas,\n",
        "        loss_net1_net2perm,\n",
        "        linestyle=\"dashed\",\n",
        "        color=\"tab:green\",\n",
        "        linewidth=3,\n",
        "        label=\"Permuted interp.\")\n",
        "ax.set_xlabel(\"alpha\")\n",
        "ax.set_xticks([0, 1])\n",
        "ax.set_xticklabels([\"Model $A$\", \"Model $B$\"])\n",
        "ax.set_ylabel(\"Test loss\")\n",
        "ax.set_title(f\"Test loss landscape between the two models\")\n",
        "ax.legend(loc=\"upper right\", framealpha=0.5)\n",
        "fig.tight_layout()"
      ]
    },
    {
      "cell_type": "code",
      "execution_count": 231,
      "metadata": {},
      "outputs": [
        {
          "data": {
            "image/png": "[encoded data removed]",
            "text/plain": [
              "<Figure size 432x288 with 1 Axes>"
            ]
          },
          "metadata": {
            "needs_background": "light"
          },
          "output_type": "display_data"
        }
      ],
      "source": [
        "fig = plt.figure()\n",
        "ax = fig.add_subplot(111)\n",
        "ax.plot(alphas,\n",
        "        acc_net1_net2,\n",
        "        linestyle=\"solid\",\n",
        "        color=\"tab:red\",\n",
        "        alpha=0.5,\n",
        "        linewidth=3,\n",
        "        label=\"Naïve interp.\")\n",
        "ax.plot(alphas,\n",
        "        acc_net1_net2perm,\n",
        "        linestyle=\"dashed\",\n",
        "        color=\"tab:green\",\n",
        "        linewidth=3,\n",
        "        label=\"Permuted interp.\")\n",
        "ax.set_xlabel(\"alpha\")\n",
        "ax.set_xticks([0, 1])\n",
        "ax.set_xticklabels([\"Model $A$\", \"Model $B$\"])\n",
        "ax.set_ylabel(\"Test acc.\")\n",
        "ax.set_title(f\"Test acc. between the two models\")\n",
        "ax.legend(loc=\"upper right\", framealpha=0.5)\n",
        "fig.tight_layout()"
      ]
    }
  ],
  "metadata": {
    "accelerator": "GPU",
    "colab": {
      "authorship_tag": "ABX9TyPptaKfhuuytg8AD3P/WGdg",
      "collapsed_sections": [],
      "include_colab_link": true,
      "machine_shape": "hm",
      "provenance": [],
      "toc_visible": true
    },
    "gpuClass": "standard",
    "kernelspec": {
      "display_name": "Python 3.10.6 ('juno')",
      "language": "python",
      "name": "python3"
    },
    "language_info": {
      "codemirror_mode": {
        "name": "ipython",
        "version": 3
      },
      "file_extension": ".py",
      "mimetype": "text/x-python",
      "name": "python",
      "nbconvert_exporter": "python",
      "pygments_lexer": "ipython3",
      "version": "3.10.6"
    },
    "vscode": {
      "interpreter": {
        "hash": "fb636781af5fd2ae3e23739b3ab282eee47b710823e0a10b76f6806f5c08e427"
      }
    }
  },
  "nbformat": 4,
  "nbformat_minor": 0
}
